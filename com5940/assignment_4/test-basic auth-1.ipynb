{
 "cells": [
  {
   "cell_type": "code",
   "execution_count": 1,
   "metadata": {},
   "outputs": [
    {
     "name": "stdout",
     "output_type": "stream",
     "text": [
      "Requirement already satisfied: PyMySQL in /Applications/anaconda3/lib/python3.7/site-packages (0.9.3)\r\n"
     ]
    }
   ],
   "source": [
    "!pip install PyMySQL"
   ]
  },
  {
   "cell_type": "code",
   "execution_count": 2,
   "metadata": {},
   "outputs": [
    {
     "name": "stdout",
     "output_type": "stream",
     "text": [
      "Requirement already satisfied: flask_login in /Applications/anaconda3/lib/python3.7/site-packages (0.5.0)\n",
      "Requirement already satisfied: Flask in /Applications/anaconda3/lib/python3.7/site-packages (from flask_login) (1.1.1)\n",
      "Requirement already satisfied: itsdangerous>=0.24 in /Applications/anaconda3/lib/python3.7/site-packages (from Flask->flask_login) (1.1.0)\n",
      "Requirement already satisfied: Werkzeug>=0.15 in /Applications/anaconda3/lib/python3.7/site-packages (from Flask->flask_login) (0.16.0)\n",
      "Requirement already satisfied: click>=5.1 in /Applications/anaconda3/lib/python3.7/site-packages (from Flask->flask_login) (7.0)\n",
      "Requirement already satisfied: Jinja2>=2.10.1 in /Applications/anaconda3/lib/python3.7/site-packages (from Flask->flask_login) (2.10.3)\n",
      "Requirement already satisfied: MarkupSafe>=0.23 in /Applications/anaconda3/lib/python3.7/site-packages (from Jinja2>=2.10.1->Flask->flask_login) (1.1.1)\n"
     ]
    }
   ],
   "source": [
    "!pip install flask_login"
   ]
  },
  {
   "cell_type": "code",
   "execution_count": 3,
   "metadata": {
    "scrolled": true
   },
   "outputs": [
    {
     "name": "stdout",
     "output_type": "stream",
     "text": [
      "Requirement already satisfied: flask_cors in /Applications/anaconda3/lib/python3.7/site-packages (3.0.8)\n",
      "Requirement already satisfied: Flask>=0.9 in /Applications/anaconda3/lib/python3.7/site-packages (from flask_cors) (1.1.1)\n",
      "Requirement already satisfied: Six in /Applications/anaconda3/lib/python3.7/site-packages (from flask_cors) (1.12.0)\n",
      "Requirement already satisfied: Werkzeug>=0.15 in /Applications/anaconda3/lib/python3.7/site-packages (from Flask>=0.9->flask_cors) (0.16.0)\n",
      "Requirement already satisfied: click>=5.1 in /Applications/anaconda3/lib/python3.7/site-packages (from Flask>=0.9->flask_cors) (7.0)\n",
      "Requirement already satisfied: itsdangerous>=0.24 in /Applications/anaconda3/lib/python3.7/site-packages (from Flask>=0.9->flask_cors) (1.1.0)\n",
      "Requirement already satisfied: Jinja2>=2.10.1 in /Applications/anaconda3/lib/python3.7/site-packages (from Flask>=0.9->flask_cors) (2.10.3)\n",
      "Requirement already satisfied: MarkupSafe>=0.23 in /Applications/anaconda3/lib/python3.7/site-packages (from Jinja2>=2.10.1->Flask>=0.9->flask_cors) (1.1.1)\n"
     ]
    }
   ],
   "source": [
    "!pip install flask_cors"
   ]
  },
  {
   "cell_type": "code",
   "execution_count": 6,
   "metadata": {},
   "outputs": [
    {
     "ename": "ModuleNotFoundError",
     "evalue": "No module named 'MySQLdb'",
     "output_type": "error",
     "traceback": [
      "\u001b[0;31m---------------------------------------------------------------------------\u001b[0m",
      "\u001b[0;31mModuleNotFoundError\u001b[0m                       Traceback (most recent call last)",
      "\u001b[0;32m<ipython-input-6-1336db8d2a84>\u001b[0m in \u001b[0;36m<module>\u001b[0;34m\u001b[0m\n\u001b[1;32m      4\u001b[0m \u001b[0;32mfrom\u001b[0m \u001b[0mflask_cors\u001b[0m \u001b[0;32mimport\u001b[0m \u001b[0mCORS\u001b[0m\u001b[0;34m\u001b[0m\u001b[0;34m\u001b[0m\u001b[0m\n\u001b[1;32m      5\u001b[0m \u001b[0;34m\u001b[0m\u001b[0m\n\u001b[0;32m----> 6\u001b[0;31m \u001b[0;32mimport\u001b[0m \u001b[0mMySQLdb\u001b[0m\u001b[0;34m\u001b[0m\u001b[0;34m\u001b[0m\u001b[0m\n\u001b[0m\u001b[1;32m      7\u001b[0m \u001b[0;34m\u001b[0m\u001b[0m\n\u001b[1;32m      8\u001b[0m \u001b[0;31m######### Initialize Flask App ##########\u001b[0m\u001b[0;34m\u001b[0m\u001b[0;34m\u001b[0m\u001b[0;34m\u001b[0m\u001b[0m\n",
      "\u001b[0;31mModuleNotFoundError\u001b[0m: No module named 'MySQLdb'"
     ]
    }
   ],
   "source": [
    "\n",
    "############# Flask Modules Setup ##############\n",
    "from flask import Flask, render_template, request, make_response, jsonify\n",
    "from flask_login import LoginManager, login_user, logout_user, login_required, UserMixin\n",
    "from flask_cors import CORS\n",
    "\n",
    "import MySQLdb\n",
    "\n",
    "######### Initialize Flask App ##########\n",
    "\n",
    "app = Flask(__name__)\n",
    "CORS(app)\n",
    "\n",
    "######### MySQL Database Setup ##########\n",
    "\n",
    "connection = MySQLdb.connect(host=\"localhost\",\n",
    "                     user=\"root\",\n",
    "                     passwd=\"root\",\n",
    "                     db=\"comm5940\",\n",
    "                     charset='utf8mb4')\n",
    "\n",
    "######### Login Manager Setup ##########\n",
    "\n",
    "login_manager = LoginManager()\n",
    "login_manager.init_app(app)\n",
    "login_manager.login_view = 'login'\n",
    "app.config['SECRET_KEY'] = \"lkkajdghdadkglajkgah\"\n",
    "\n",
    "\n",
    "@login_manager.user_loader\n",
    "def load_user(user_id):\n",
    "    return User(user_id)\n",
    "\n",
    "class User(UserMixin):\n",
    "  def __init__(self,id):\n",
    "    self.id = id\n",
    "\n",
    "############ Web Page Routes Setup ###############\n",
    "\n",
    "@app.route(\"/\")\n",
    "@login_required\n",
    "def home():\n",
    "    return render_template('home.html')\n",
    "\n",
    "@app.route(\"/login\")\n",
    "def login():\n",
    "    message = 'Please login in first.'\n",
    "    return render_template('login.html', message=message)\n",
    "\n",
    "@app.route('/query_auth')\n",
    "def query_auth():\n",
    "    username = request.args.get(\"username\")\n",
    "    password = request.args.get(\"password\")\n",
    "    if username == \"1155136921@link.cuhk.edu.hk\" and password == \"xwr123\":\n",
    "        login_user(User(1))\n",
    "        message = \"Dear \" + username + \", welcome to PENSOO's pages. Your login has been granted.\"\n",
    "        return make_response(message, 200, )\n",
    "    else:\n",
    "        message = 'Wrong password!'\n",
    "        return make_response( message,401,{'WWW-Authenticate':'Basic realm=\"Login Required\"'})\n",
    "\n",
    "@app.route(\"/form_auth\",methods=['POST'])\n",
    "def form_auth():\n",
    "    username = request.form['email']\n",
    "    password = request.form['pwd']\n",
    "    if username == \"1155136921@link.cuhk.edu.hk\" and password == \"xwr123\":\n",
    "        login_user(User(1))\n",
    "        message = \"Dear \" + username + \", welcome to PENSOO's pages. Your login has been granted.\"\n",
    "        return render_template('home.html', message=message)\n",
    "    else:\n",
    "        message = 'Wrong password!'\n",
    "        return render_template('login.html',message=message)\n",
    "\n",
    "@app.route('/album')\n",
    "@login_required\n",
    "def album():\n",
    "    with connection.cursor() as cursor:\n",
    "        sql = \"SELECT * FROM nopic\"\n",
    "        cursor.execute(sql)\n",
    "        result = cursor.fetchall()\n",
    "    final_result = [list(i) for i in result]\n",
    "    dataset=[]\n",
    "    dict={}\n",
    "    for i in final_result:\n",
    "        dict['Film'] = i[0]\n",
    "        dict['Release_Date'] = i[1]\n",
    "        dict['Douban_Rating'] = i[2]\n",
    "        dict['Filming_Site'] = i[3]\n",
    "        dict['Scene_Time'] = i[4]\n",
    "        dict['Character'] = i[5]\n",
    "        dict['Scene_Plot'] = i[6]\n",
    "        dict['poster_url'] = i[7]\n",
    "        dataset.append(dict.copy()) #markers.append(fld.copy())\n",
    "    cursor.close()\n",
    "    connection.close()\n",
    "    return render_template('product-web.html',dataset=dataset)\n",
    "\n",
    "@app.route('/logout/')\n",
    "@login_required\n",
    "def logout():\n",
    "    logout_user()\n",
    "    message = 'Thanks for logging out.'\n",
    "    return render_template('login.html',message=message)\n",
    "\n",
    "@app.errorhandler(500)\n",
    "def internal_error(error):\n",
    "    message = 'Wrong password!'\n",
    "    return render_template('login.html',message=message),500\n",
    "\n",
    "######### API Endpoints ##########\n",
    "\n",
    "@app.route('/api_auth', methods=['POST'])\n",
    "def api_auth():\n",
    "    username = request.json['username']\n",
    "    password = request.json['password']\n",
    "    if username == \"1155136921@link.cuhk.edu.hk\" and password == \"xwr123\":\n",
    "        login_user(User(1))\n",
    "        message = \"Dear \" + username + \", welcome to PENSOO's pages. Your login has been granted.\"\n",
    "        return jsonify({'response':'ok!','message':message})\n",
    "    else:\n",
    "        message = 'Wrong password!'\n",
    "        return jsonify({'response':'Invalid!','message':'Cannot authenticate.'})\n",
    "\n",
    "@app.route('/api_album', methods=['POST'])\n",
    "@login_required\n",
    "def api_album():\n",
    "    with connection.cursor() as cursor:\n",
    "        sql = \"SELECT * FROM nopic\"\n",
    "        cursor.execute(sql)\n",
    "        result = cursor.fetchall()\n",
    "    final_result = [list(i) for i in result]\n",
    "    dataset=[]\n",
    "    dict={}\n",
    "    for i in final_result:\n",
    "        dict['Film'] = i[0]\n",
    "        dict['Release_Date'] = i[1]\n",
    "        dict['Douban_Rating'] = i[2]\n",
    "        dict['Filming_Site'] = i[3]\n",
    "        dict['Scene_Time'] = i[4]\n",
    "        dict['Character'] = i[5]\n",
    "        dict['Scene_Plot'] = i[6]\n",
    "        dict['poster_url'] = i[7]\n",
    "        dataset.append(dict.copy()) #markers.append(fld.copy())\n",
    "    cursor.close()\n",
    "    connection.close()\n",
    "    return jsonify({'Album': dataset})\n",
    "\n",
    "######### Run Flask Web App at Port 9030 ##########    \n",
    "\n",
    "if __name__ == '__main__':\n",
    "    from werkzeug.serving import run_simple\n",
    "    run_simple('localhost', 9030, app)"
   ]
  },
  {
   "cell_type": "code",
   "execution_count": null,
   "metadata": {},
   "outputs": [],
   "source": []
  }
 ],
 "metadata": {
  "kernelspec": {
   "display_name": "Python 3",
   "language": "python",
   "name": "python3"
  },
  "language_info": {
   "codemirror_mode": {
    "name": "ipython",
    "version": 3
   },
   "file_extension": ".py",
   "mimetype": "text/x-python",
   "name": "python",
   "nbconvert_exporter": "python",
   "pygments_lexer": "ipython3",
   "version": "3.7.4"
  }
 },
 "nbformat": 4,
 "nbformat_minor": 2
}
