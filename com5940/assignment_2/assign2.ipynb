{
 "cells": [
  {
   "cell_type": "code",
   "execution_count": null,
   "metadata": {},
   "outputs": [],
   "source": [
    "#!/usr/bin/env python\n",
    "# coding: utf-8\n",
    "\n",
    "# In[ ]:\n",
    "\n",
    "\n",
    "from flask import Flask, render_template\n",
    "import requests\n",
    "    \n",
    "app = Flask(__name__)\n",
    "\n",
    "@app.route(\"/\")\n",
    "def home():\n",
    "    user = {\"name\":\"香港片場Locations in Hongkong\"}\n",
    "    headers = {'Authorization': 'Bearer keymD6h94v04C3JPF',}\n",
    "    params = (('view', 'Grid view'),)\n",
    "\n",
    "    r = requests.get('https://api.airtable.com/v0/appu5yU2yNyYArUOD/%E9%A6%99%E6%B8%AF%E7%89%87%E5%A0%B4Locations%20in%20Hongkong?api_key=keymD6h94v04C3JPF', headers=headers, params=params)\n",
    "    dict = r.json()\n",
    "    dataset = []\n",
    "    for i in dict[\"records\"] :\n",
    "        dict = i['fields']\n",
    "        print(type(dict)\n",
    "        dataset.append(dict)\n",
    "    return render_template('assign2index.html',album_user=user, dataset=dataset)\n",
    "\n",
    "if __name__ == '__main__':\n",
    "    from werkzeug.serving import run_simple\n",
    "    run_simple('localhost', 9010, app)\n",
    "# if __name__ == '__main__':\n",
    "   # app.run(debug = True)\n",
    "\n",
    "\n",
    "# In[ ]:"
   ]
  },
  {
   "cell_type": "code",
   "execution_count": null,
   "metadata": {},
   "outputs": [],
   "source": []
  },
  {
   "cell_type": "code",
   "execution_count": null,
   "metadata": {},
   "outputs": [],
   "source": []
  }
 ],
 "metadata": {
  "kernelspec": {
   "display_name": "Python 3",
   "language": "python",
   "name": "python3"
  },
  "language_info": {
   "codemirror_mode": {
    "name": "ipython",
    "version": 3
   },
   "file_extension": ".py",
   "mimetype": "text/x-python",
   "name": "python",
   "nbconvert_exporter": "python",
   "pygments_lexer": "ipython3",
   "version": "3.7.4"
  }
 },
 "nbformat": 4,
 "nbformat_minor": 2
}
